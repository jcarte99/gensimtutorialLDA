{
 "cells": [
  {
   "cell_type": "code",
   "execution_count": 3,
   "id": "9324f9f1",
   "metadata": {},
   "outputs": [],
   "source": [
    "#import and install packages \n",
    "import sys\n",
    "import re \n",
    "import numpy as np \n",
    "import pandas as pd \n",
    "from pprint import pprint\n",
    "import gensim, spacy, logging, warnings\n",
    "import gensim.corpora as corpora\n",
    "from gensim.utils import simple_preprocess\n",
    "from gensim.models import CoherenceModel\n",
    "import matplotlib.pyplot as plt"
   ]
  },
  {
   "cell_type": "code",
   "execution_count": 4,
   "id": "f529f2a4",
   "metadata": {},
   "outputs": [
    {
     "data": {
      "text/plain": [
       "<bound method NDFrame.head of        Unnamed: 0  Clothing ID  Age  \\\n",
       "0               0          767   33   \n",
       "1               1         1080   34   \n",
       "2               2         1077   60   \n",
       "3               3         1049   50   \n",
       "4               4          847   47   \n",
       "...           ...          ...  ...   \n",
       "23481       23481         1104   34   \n",
       "23482       23482          862   48   \n",
       "23483       23483         1104   31   \n",
       "23484       23484         1084   28   \n",
       "23485       23485         1104   52   \n",
       "\n",
       "                                                   Title  \\\n",
       "0                                                    NaN   \n",
       "1                                                    NaN   \n",
       "2                                Some major design flaws   \n",
       "3                                       My favorite buy!   \n",
       "4                                       Flattering shirt   \n",
       "...                                                  ...   \n",
       "23481                     Great dress for many occasions   \n",
       "23482                         Wish it was made of cotton   \n",
       "23483                              Cute, but see through   \n",
       "23484  Very cute dress, perfect for summer parties an...   \n",
       "23485                    Please make more like this one!   \n",
       "\n",
       "                                              ReviewText  Rating  \\\n",
       "0      Absolutely wonderful - silky and sexy and comf...       4   \n",
       "1      Love this dress!  it's sooo pretty.  i happene...       5   \n",
       "2      I had such high hopes for this dress and reall...       3   \n",
       "3      I love, love, love this jumpsuit. it's fun, fl...       5   \n",
       "4      This shirt is very flattering to all due to th...       5   \n",
       "...                                                  ...     ...   \n",
       "23481  I was very happy to snag this dress at such a ...       5   \n",
       "23482  It reminds me of maternity clothes. soft, stre...       3   \n",
       "23483  This fit well, but the top was very see throug...       3   \n",
       "23484  I bought this dress for a wedding i have this ...       3   \n",
       "23485  This dress in a lovely platinum is feminine an...       5   \n",
       "\n",
       "       Recommended IND  Positive Feedback Count   Division Name  \\\n",
       "0                    1                        0       Initmates   \n",
       "1                    1                        4         General   \n",
       "2                    0                        0         General   \n",
       "3                    1                        0  General Petite   \n",
       "4                    1                        6         General   \n",
       "...                ...                      ...             ...   \n",
       "23481                1                        0  General Petite   \n",
       "23482                1                        0  General Petite   \n",
       "23483                0                        1  General Petite   \n",
       "23484                1                        2         General   \n",
       "23485                1                       22  General Petite   \n",
       "\n",
       "      Department Name Class Name  \n",
       "0            Intimate  Intimates  \n",
       "1             Dresses    Dresses  \n",
       "2             Dresses    Dresses  \n",
       "3             Bottoms      Pants  \n",
       "4                Tops    Blouses  \n",
       "...               ...        ...  \n",
       "23481         Dresses    Dresses  \n",
       "23482            Tops      Knits  \n",
       "23483         Dresses    Dresses  \n",
       "23484         Dresses    Dresses  \n",
       "23485         Dresses    Dresses  \n",
       "\n",
       "[23486 rows x 11 columns]>"
      ]
     },
     "execution_count": 4,
     "metadata": {},
     "output_type": "execute_result"
    }
   ],
   "source": [
    "df = pd.read_csv('/Users/maximascientia/Documents/Reviews.csv')\n",
    "df.head"
   ]
  },
  {
   "cell_type": "code",
   "execution_count": 22,
   "id": "71e4db1e",
   "metadata": {},
   "outputs": [],
   "source": [
    "#Create our lists of stopwords\n",
    "stopwords = set('for a of the and an to in from am are is was were be'.split(' '))\n",
    "#Put each document in lowercase and separate with spaces\n",
    "texts = [[word for word in df.lower().split() if word not in stopwords]\n",
    "        for df in df]\n",
    "\n",
    "#Count the frequency of words\n",
    "from collections import defaultdict\n",
    "frequency = defaultdict(int)\n",
    "for text in texts: \n",
    "    for token in text: \n",
    "        frequency[token] +=1\n",
    "\n",
    "#We want to keep words that are found more than once \n",
    "processed_df = [[token for token in text if frequency[token] > 1] for text in texts]"
   ]
  },
  {
   "cell_type": "code",
   "execution_count": 28,
   "id": "6ca9b351",
   "metadata": {},
   "outputs": [
    {
     "name": "stdout",
     "output_type": "stream",
     "text": [
      "['Absolutely wonderful - silky and sexy and comfortable']\n"
     ]
    },
    {
     "name": "stderr",
     "output_type": "stream",
     "text": [
      "<>:4: DeprecationWarning: invalid escape sequence \\S\n",
      "<>:5: DeprecationWarning: invalid escape sequence \\s\n",
      "<>:4: DeprecationWarning: invalid escape sequence \\S\n",
      "<>:5: DeprecationWarning: invalid escape sequence \\s\n",
      "/var/folders/8t/_9gdklfd5j9bftg20qg_bn0m0000gn/T/ipykernel_48853/1784516939.py:4: DeprecationWarning: invalid escape sequence \\S\n",
      "  sent = re.sub('\\S*@\\S*\\s?', '', sent)  # remove emails\n",
      "/var/folders/8t/_9gdklfd5j9bftg20qg_bn0m0000gn/T/ipykernel_48853/1784516939.py:5: DeprecationWarning: invalid escape sequence \\s\n",
      "  sent = re.sub('\\s+', ' ', sent)  # remove newline chars\n"
     ]
    }
   ],
   "source": [
    "#This removes random stuff that may be in the code.\n",
    "def sent_to_words(sentences):\n",
    "    for sent in sentences:\n",
    "        sent = re.sub('\\S*@\\S*\\s?', '', sent)  # remove emails\n",
    "        sent = re.sub('\\s+', ' ', sent)  # remove newline chars\n",
    "        sent = re.sub(\"\\'\", \"\", sent)  # remove single quotes\n",
    "        sent = gensim.utils.simple_preprocess(str(sent), deacc=True) \n",
    "        yield(sent) \n",
    "\n",
    "# Convert Comments to list\n",
    "df['ReviewText'] = df['ReviewText'].apply(str)\n",
    "data = df.ReviewText.values.tolist()\n",
    "data_words = list((data))\n",
    "print(data_words[:1])"
   ]
  },
  {
   "cell_type": "code",
   "execution_count": 29,
   "id": "29d3721e",
   "metadata": {},
   "outputs": [
    {
     "name": "stdout",
     "output_type": "stream",
     "text": [
      "Dictionary(15983 unique tokens: ['-', 'absolutely', 'comfortable', 'sexy', 'silky']...)\n"
     ]
    }
   ],
   "source": [
    "# remove stop words and words that appear only once\n",
    "stop_ids = [\n",
    "    dictionary.token2id[stopword]\n",
    "    for stopword in stopwords\n",
    "    if stopword in dictionary.token2id\n",
    "]\n",
    "once_ids = [tokenid for tokenid, docfreq in dictionary.dfs.items() if docfreq == 1]\n",
    "dictionary.filter_tokens(stop_ids + once_ids)  # remove stop words and words that appear only once\n",
    "dictionary.compactify()  # remove gaps in id sequence after words that were removed\n",
    "print(dictionary)"
   ]
  },
  {
   "cell_type": "code",
   "execution_count": 30,
   "id": "b3bea034",
   "metadata": {
    "scrolled": true
   },
   "outputs": [],
   "source": [
    "#collect statistics about all tokens and create the corpa\n",
    "id2word = corpora.Dictionary(line.lower().split() for line in data_words)\n",
    "corpus = [dictionary.doc2bow(text) for text in texts]"
   ]
  },
  {
   "cell_type": "code",
   "execution_count": 31,
   "id": "a0bf7c7c",
   "metadata": {},
   "outputs": [],
   "source": [
    "#Initialize Model\n",
    "from gensim import models \n",
    "tfidf = models.TfidfModel(corpus)"
   ]
  },
  {
   "cell_type": "code",
   "execution_count": 32,
   "id": "d09e9a6d",
   "metadata": {
    "scrolled": false
   },
   "outputs": [
    {
     "name": "stdout",
     "output_type": "stream",
     "text": [
      "[(807, 1.0)]\n",
      "[(1560, 0.7071067811865476), (5279, 0.7071067811865476)]\n",
      "[(2339, 1.0)]\n",
      "[(1946, 1.0)]\n",
      "[]\n",
      "[(7304, 1.0)]\n",
      "[(1205, 1.0)]\n",
      "[(1941, 0.5773502691896258), (8131, 0.5773502691896258), (10672, 0.5773502691896258)]\n",
      "[(4019, 1.0)]\n",
      "[(4019, 0.4764030728504269), (8391, 0.8792269969573677)]\n",
      "[(3398, 0.8792269969573677), (4019, 0.4764030728504269)]\n"
     ]
    }
   ],
   "source": [
    "#Transform the whole model into a vector \n",
    "corpus_tfidf = tfidf[corpus]\n",
    "for doc in corpus_tfidf:\n",
    "    print(doc)"
   ]
  },
  {
   "cell_type": "code",
   "execution_count": 39,
   "id": "7ca745d2",
   "metadata": {},
   "outputs": [
    {
     "name": "stderr",
     "output_type": "stream",
     "text": [
      "/Users/maximascientia/opt/anaconda3/lib/python3.8/site-packages/gensim/models/ldamodel.py:849: RuntimeWarning: overflow encountered in exp2\n",
      "  perwordbound, np.exp2(-perwordbound), len(chunk), corpus_words\n"
     ]
    }
   ],
   "source": [
    "model = models.LdaModel(corpus, id2word=id2word, num_topics=4)"
   ]
  },
  {
   "cell_type": "code",
   "execution_count": 40,
   "id": "5d2c845b",
   "metadata": {},
   "outputs": [
    {
     "name": "stderr",
     "output_type": "stream",
     "text": [
      "/Users/maximascientia/opt/anaconda3/lib/python3.8/site-packages/pyLDAvis/_prepare.py:246: FutureWarning: In a future version of pandas all arguments of DataFrame.drop except for the argument 'labels' will be keyword-only\n",
      "  default_term_info = default_term_info.sort_values(\n"
     ]
    },
    {
     "data": {
      "text/html": [
       "\n",
       "<link rel=\"stylesheet\" type=\"text/css\" href=\"https://cdn.jsdelivr.net/gh/bmabey/pyLDAvis@3.3.1/pyLDAvis/js/ldavis.v1.0.0.css\">\n",
       "\n",
       "\n",
       "<div id=\"ldavis_el488531402271064795682226344205\"></div>\n",
       "<script type=\"text/javascript\">\n",
       "\n",
       "var ldavis_el488531402271064795682226344205_data = {\"mdsDat\": {\"x\": [0.00010108937993352383, -7.450294434133438e-05, -3.859124005506559e-05, 1.2004804462876089e-05], \"y\": [-0.0, -0.0, 0.0, 0.0], \"topics\": [1, 2, 3, 4], \"cluster\": [1, 1, 1, 1], \"Freq\": [31.240282229405196, 28.527275529404495, 27.297879159587957, 12.934563081602352]}, \"tinfo\": {\"Term\": [\"air.\", \"climate\", \"sorry\", \"putting\", \"limitless\", \"charlie's,\", \"tops.\", \"(1\", \"conditioning!\", \"nice,\", \"birthday,\", \"standing\", \"definetly\", \"milestone\", \"celebrate\", \"cop\", \"\\\"suit\\\"\", \"times).\", \"5&#39;5&quot;\", \"?dirty?\", \"those!\", \"hawk\\\"\", \"converse.\", \"mellowed.\", \"-\", \"27-29\", \"calves,\", \"28-29\", \"that):\", \"online.)\", \"(1\", \"conditioning!\", \"nice,\", \"standing\", \"definetly\", \"-\", \"absolutely\", \"and\", \"comfortable\", \"sexy\", \"silky\", \"wonderful\", \"5'8\\\".\", \"a\", \"am\", \"bc\", \"be\", \"below\", \"bought\", \"definitely\", \"did\", \"dress!\", \"find\", \"glad\", \"happened\", \"have\", \"hits\", \"i\", \"i'm\", \"in\", \"birthday,\", \"tops.\", \"air.\", \"climate\", \"limitless\", \"sorry\", \"putting\", \"charlie's,\", \"charlie's,\", \"tops.\", \"birthday,\", \"air.\", \"-\", \"absolutely\", \"and\", \"comfortable\", \"sexy\", \"silky\", \"wonderful\", \"5'8\\\".\", \"a\", \"am\", \"bc\", \"be\", \"below\", \"bought\", \"definitely\", \"did\", \"dress!\", \"find\", \"glad\", \"happened\", \"have\", \"hits\", \"i\", \"i'm\", \"in\", \"is\", \"climate\", \"standing\", \"definetly\", \"limitless\", \"putting\", \"sorry\", \"nice,\", \"(1\", \"conditioning!\", \"sorry\", \"limitless\", \"putting\", \"air.\", \"-\", \"absolutely\", \"and\", \"comfortable\", \"sexy\", \"silky\", \"wonderful\", \"5'8\\\".\", \"a\", \"am\", \"bc\", \"be\", \"below\", \"bought\", \"definitely\", \"did\", \"dress!\", \"find\", \"glad\", \"happened\", \"have\", \"hits\", \"i\", \"i'm\", \"in\", \"is\", \"climate\", \"birthday,\", \"definetly\", \"tops.\", \"standing\", \"charlie's,\", \"(1\", \"nice,\", \"conditioning!\", \"climate\", \"-\", \"absolutely\", \"and\", \"comfortable\", \"sexy\", \"silky\", \"wonderful\", \"5'8\\\".\", \"a\", \"am\", \"bc\", \"be\", \"below\", \"bought\", \"definitely\", \"did\", \"dress!\", \"find\", \"glad\", \"happened\", \"have\", \"hits\", \"i\", \"i'm\", \"in\", \"is\", \"it\", \"it's\", \"just\", \"definetly\", \"birthday,\", \"standing\", \"air.\", \"tops.\", \"charlie's,\", \"putting\", \"sorry\", \"conditioning!\", \"limitless\", \"(1\", \"nice,\"], \"Freq\": [0.0, 0.0, 0.0, 0.0, 0.0, 0.0, 0.0, 0.0, 0.0, 0.0, 0.0, 0.0, 0.0, 0.0, 0.0, 0.0, 0.0, 0.0, 0.0, 0.0, 0.0, 0.0, 0.0, 0.0, 0.0, 0.0, 0.0, 0.0, 0.0, 0.0, 0.0006070962011113443, 0.0006058806302984623, 0.0006062702048555135, 0.000579895195871552, 0.0005768153543050866, 0.0001241649225587945, 0.0001241649225587945, 0.0001241649225587945, 0.0001241649225587945, 0.0001241649225587945, 0.0001241649225587945, 0.0001241649225587945, 0.0001241649225587945, 0.0001241649225587945, 0.0001241649225587945, 0.0001241649225587945, 0.0001241649225587945, 0.0001241649225587945, 0.0001241649225587945, 0.0001241649225587945, 0.0001241649225587945, 0.0001241649225587945, 0.0001241649225587945, 0.0001241649225587945, 0.0001241649225587945, 0.0001241649225587945, 0.0001241649225587945, 0.0001241649225587945, 0.0001241649225587945, 0.0001241649225587945, 0.00013375849436132563, 0.00013316077563508503, 0.0001402186862245391, 0.00012869875586268408, 0.00013022885715769424, 0.00013011910391954023, 0.00012952359287337744, 0.00012950390275376453, 0.0005465887092010659, 0.0005384244372208968, 0.0005269876815842953, 0.0009711508405104958, 0.00011338268692331732, 0.00011338268692331732, 0.00011338268692331732, 0.00011338268692331732, 0.00011338268692331732, 0.00011338268692331732, 0.00011338268692331732, 0.00011338268692331732, 0.00011338268692331732, 0.00011338268692331732, 0.00011338268692331732, 0.00011338268692331732, 0.00011338268692331732, 0.00011338268692331732, 0.00011338268692331732, 0.00011338268692331732, 0.00011338268692331732, 0.00011338268692331732, 0.00011338268692331732, 0.00011338268692331732, 0.00011338268692331732, 0.00011338268692331732, 0.00011338268692331732, 0.00011338268692331732, 0.00011338268692331732, 0.00011338268692331732, 0.0001225558019011504, 0.00012569210331157636, 0.00012170260798747073, 0.00011903119895285759, 0.00011836127041310449, 0.00011783400009264749, 0.00011657664940361154, 0.0001161040201077867, 0.00011597676567591898, 0.0005253940470766641, 0.0005241295839622853, 0.0005233820843265528, 0.0005416381168809004, 0.00010850553812108585, 0.00010850553812108585, 0.00010850553812108585, 0.00010850553812108585, 0.00010850553812108585, 0.00010850553812108585, 0.00010850553812108585, 0.00010850553812108585, 0.00010850553812108585, 0.00010850553812108585, 0.00010850553812108585, 0.00010850553812108585, 0.00010850553812108585, 0.00010850553812108585, 0.00010850553812108585, 0.00010850553812108585, 0.00010850553812108585, 0.00010850553812108585, 0.00010850553812108585, 0.00010850553812108585, 0.00010850553812108585, 0.00010850553812108585, 0.00010850553812108585, 0.00010850553812108585, 0.00010850553812108585, 0.00010850553812108585, 0.00012098972795704808, 0.00011972516056810877, 0.00011990517570059204, 0.00011662959892895249, 0.00011679331743725299, 0.00011243528879673489, 0.0001115704877285277, 0.00011140437835351665, 0.00011107875869354299, 0.00024261276548492774, 5.142900795736274e-05, 5.142900795736274e-05, 5.142900795736274e-05, 5.142900795736274e-05, 5.142900795736274e-05, 5.142900795736274e-05, 5.142900795736274e-05, 5.142900795736274e-05, 5.142900795736274e-05, 5.142900795736274e-05, 5.142900795736274e-05, 5.142900795736274e-05, 5.142900795736274e-05, 5.142900795736274e-05, 5.142900795736274e-05, 5.142900795736274e-05, 5.142900795736274e-05, 5.142900795736274e-05, 5.142900795736274e-05, 5.142900795736274e-05, 5.142900795736274e-05, 5.142900795736274e-05, 5.142900795736274e-05, 5.142900795736274e-05, 5.142900795736274e-05, 5.142900795736274e-05, 5.142900795736274e-05, 5.142900795736274e-05, 5.142900795736274e-05, 5.705537395983299e-05, 5.6707418483978886e-05, 5.6538716862614727e-05, 5.987373778990713e-05, 5.428224709437635e-05, 5.4224855651201925e-05, 5.3888027663991835e-05, 5.302121288574539e-05, 5.3140880150236746e-05, 5.286837843499445e-05, 5.2663534532880734e-05, 5.25471952803752e-05], \"Total\": [0.0, 0.0, 0.0, 0.0, 0.0, 0.0, 0.0, 0.0, 0.0, 0.0, 0.0, 0.0, 0.0, 0.0, 0.0, 0.0, 0.0, 0.0, 0.0, 0.0, 0.0, 0.0, 0.0, 0.0, 0.0, 0.0, 0.0, 0.0, 0.0, 0.0, 0.0008874342434805393, 0.0008860770348181611, 0.000886798427893017, 0.0008789193334829961, 0.0008754785119529823, 0.0003974821555605604, 0.0003974821555605604, 0.0003974821555605604, 0.0003974821555605604, 0.0003974821555605604, 0.0003974821555605604, 0.0003974821555605604, 0.0003974821555605604, 0.0003974821555605604, 0.0003974821555605604, 0.0003974821555605604, 0.0003974821555605604, 0.0003974821555605604, 0.0003974821555605604, 0.0003974821555605604, 0.0003974821555605604, 0.0003974821555605604, 0.0003974821555605604, 0.0003974821555605604, 0.0003974821555605604, 0.0003974821555605604, 0.0003974821555605604, 0.0003974821555605604, 0.0003974821555605604, 0.0003974821555605604, 0.0008371787549977085, 0.0008424970588793106, 0.0017128813814058425, 0.0006148570512058103, 0.0008262580185078316, 0.0008263683639745972, 0.0008251549752770266, 0.0008427527564027672, 0.0008427527564027672, 0.0008424970588793106, 0.0008371787549977085, 0.0017128813814058425, 0.0003974821555605604, 0.0003974821555605604, 0.0003974821555605604, 0.0003974821555605604, 0.0003974821555605604, 0.0003974821555605604, 0.0003974821555605604, 0.0003974821555605604, 0.0003974821555605604, 0.0003974821555605604, 0.0003974821555605604, 0.0003974821555605604, 0.0003974821555605604, 0.0003974821555605604, 0.0003974821555605604, 0.0003974821555605604, 0.0003974821555605604, 0.0003974821555605604, 0.0003974821555605604, 0.0003974821555605604, 0.0003974821555605604, 0.0003974821555605604, 0.0003974821555605604, 0.0003974821555605604, 0.0003974821555605604, 0.0003974821555605604, 0.0006148570512058103, 0.0008789193334829961, 0.0008754785119529823, 0.0008262580185078316, 0.0008251549752770266, 0.0008263683639745972, 0.000886798427893017, 0.0008874342434805393, 0.0008860770348181611, 0.0008263683639745972, 0.0008262580185078316, 0.0008251549752770266, 0.0017128813814058425, 0.0003974821555605604, 0.0003974821555605604, 0.0003974821555605604, 0.0003974821555605604, 0.0003974821555605604, 0.0003974821555605604, 0.0003974821555605604, 0.0003974821555605604, 0.0003974821555605604, 0.0003974821555605604, 0.0003974821555605604, 0.0003974821555605604, 0.0003974821555605604, 0.0003974821555605604, 0.0003974821555605604, 0.0003974821555605604, 0.0003974821555605604, 0.0003974821555605604, 0.0003974821555605604, 0.0003974821555605604, 0.0003974821555605604, 0.0003974821555605604, 0.0003974821555605604, 0.0003974821555605604, 0.0003974821555605604, 0.0003974821555605604, 0.0006148570512058103, 0.0008371787549977085, 0.0008754785119529823, 0.0008424970588793106, 0.0008789193334829961, 0.0008427527564027672, 0.0008874342434805393, 0.000886798427893017, 0.0008860770348181611, 0.0006148570512058103, 0.0003974821555605604, 0.0003974821555605604, 0.0003974821555605604, 0.0003974821555605604, 0.0003974821555605604, 0.0003974821555605604, 0.0003974821555605604, 0.0003974821555605604, 0.0003974821555605604, 0.0003974821555605604, 0.0003974821555605604, 0.0003974821555605604, 0.0003974821555605604, 0.0003974821555605604, 0.0003974821555605604, 0.0003974821555605604, 0.0003974821555605604, 0.0003974821555605604, 0.0003974821555605604, 0.0003974821555605604, 0.0003974821555605604, 0.0003974821555605604, 0.0003974821555605604, 0.0003974821555605604, 0.0003974821555605604, 0.0003974821555605604, 0.0003974821555605604, 0.0003974821555605604, 0.0003974821555605604, 0.0008754785119529823, 0.0008371787549977085, 0.0008789193334829961, 0.0017128813814058425, 0.0008424970588793106, 0.0008427527564027672, 0.0008251549752770266, 0.0008263683639745972, 0.0008860770348181611, 0.0008262580185078316, 0.0008874342434805393, 0.000886798427893017], \"Category\": [\"Default\", \"Default\", \"Default\", \"Default\", \"Default\", \"Default\", \"Default\", \"Default\", \"Default\", \"Default\", \"Default\", \"Default\", \"Default\", \"Default\", \"Default\", \"Default\", \"Default\", \"Default\", \"Default\", \"Default\", \"Default\", \"Default\", \"Default\", \"Default\", \"Default\", \"Default\", \"Default\", \"Default\", \"Default\", \"Default\", \"Topic1\", \"Topic1\", \"Topic1\", \"Topic1\", \"Topic1\", \"Topic1\", \"Topic1\", \"Topic1\", \"Topic1\", \"Topic1\", \"Topic1\", \"Topic1\", \"Topic1\", \"Topic1\", \"Topic1\", \"Topic1\", \"Topic1\", \"Topic1\", \"Topic1\", \"Topic1\", \"Topic1\", \"Topic1\", \"Topic1\", \"Topic1\", \"Topic1\", \"Topic1\", \"Topic1\", \"Topic1\", \"Topic1\", \"Topic1\", \"Topic1\", \"Topic1\", \"Topic1\", \"Topic1\", \"Topic1\", \"Topic1\", \"Topic1\", \"Topic1\", \"Topic2\", \"Topic2\", \"Topic2\", \"Topic2\", \"Topic2\", \"Topic2\", \"Topic2\", \"Topic2\", \"Topic2\", \"Topic2\", \"Topic2\", \"Topic2\", \"Topic2\", \"Topic2\", \"Topic2\", \"Topic2\", \"Topic2\", \"Topic2\", \"Topic2\", \"Topic2\", \"Topic2\", \"Topic2\", \"Topic2\", \"Topic2\", \"Topic2\", \"Topic2\", \"Topic2\", \"Topic2\", \"Topic2\", \"Topic2\", \"Topic2\", \"Topic2\", \"Topic2\", \"Topic2\", \"Topic2\", \"Topic2\", \"Topic2\", \"Topic2\", \"Topic2\", \"Topic3\", \"Topic3\", \"Topic3\", \"Topic3\", \"Topic3\", \"Topic3\", \"Topic3\", \"Topic3\", \"Topic3\", \"Topic3\", \"Topic3\", \"Topic3\", \"Topic3\", \"Topic3\", \"Topic3\", \"Topic3\", \"Topic3\", \"Topic3\", \"Topic3\", \"Topic3\", \"Topic3\", \"Topic3\", \"Topic3\", \"Topic3\", \"Topic3\", \"Topic3\", \"Topic3\", \"Topic3\", \"Topic3\", \"Topic3\", \"Topic3\", \"Topic3\", \"Topic3\", \"Topic3\", \"Topic3\", \"Topic3\", \"Topic3\", \"Topic3\", \"Topic3\", \"Topic4\", \"Topic4\", \"Topic4\", \"Topic4\", \"Topic4\", \"Topic4\", \"Topic4\", \"Topic4\", \"Topic4\", \"Topic4\", \"Topic4\", \"Topic4\", \"Topic4\", \"Topic4\", \"Topic4\", \"Topic4\", \"Topic4\", \"Topic4\", \"Topic4\", \"Topic4\", \"Topic4\", \"Topic4\", \"Topic4\", \"Topic4\", \"Topic4\", \"Topic4\", \"Topic4\", \"Topic4\", \"Topic4\", \"Topic4\", \"Topic4\", \"Topic4\", \"Topic4\", \"Topic4\", \"Topic4\", \"Topic4\", \"Topic4\", \"Topic4\", \"Topic4\", \"Topic4\", \"Topic4\", \"Topic4\"], \"logprob\": [30.0, 29.0, 28.0, 27.0, 26.0, 25.0, 24.0, 23.0, 22.0, 21.0, 20.0, 19.0, 18.0, 17.0, 16.0, 15.0, 14.0, 13.0, 12.0, 11.0, 10.0, 9.0, 8.0, 7.0, 6.0, 5.0, 4.0, 3.0, 2.0, 1.0, -8.9514, -8.9534, -8.9528, -8.9973, -9.0026, -10.5385, -10.5385, -10.5385, -10.5385, -10.5385, -10.5385, -10.5385, -10.5385, -10.5385, -10.5385, -10.5385, -10.5385, -10.5385, -10.5385, -10.5385, -10.5385, -10.5385, -10.5385, -10.5385, -10.5385, -10.5385, -10.5385, -10.5385, -10.5385, -10.5385, -10.4641, -10.4685, -10.4169, -10.5026, -10.4908, -10.4916, -10.4962, -10.4964, -8.9656, -8.9806, -9.0021, -8.3908, -10.5385, -10.5385, -10.5385, -10.5385, -10.5385, -10.5385, -10.5385, -10.5385, -10.5385, -10.5385, -10.5385, -10.5385, -10.5385, -10.5385, -10.5385, -10.5385, -10.5385, -10.5385, -10.5385, -10.5385, -10.5385, -10.5385, -10.5385, -10.5385, -10.5385, -10.5385, -10.4607, -10.4354, -10.4677, -10.4899, -10.4955, -10.5, -10.5107, -10.5148, -10.5159, -8.9611, -8.9635, -8.9649, -8.9306, -10.5384, -10.5384, -10.5384, -10.5384, -10.5384, -10.5384, -10.5384, -10.5384, -10.5384, -10.5384, -10.5384, -10.5384, -10.5384, -10.5384, -10.5384, -10.5384, -10.5384, -10.5384, -10.5384, -10.5384, -10.5384, -10.5384, -10.5384, -10.5384, -10.5384, -10.5384, -10.4295, -10.44, -10.4385, -10.4662, -10.4648, -10.5028, -10.5105, -10.512, -10.515, -8.9868, -10.5381, -10.5381, -10.5381, -10.5381, -10.5381, -10.5381, -10.5381, -10.5381, -10.5381, -10.5381, -10.5381, -10.5381, -10.5381, -10.5381, -10.5381, -10.5381, -10.5381, -10.5381, -10.5381, -10.5381, -10.5381, -10.5381, -10.5381, -10.5381, -10.5381, -10.5381, -10.5381, -10.5381, -10.5381, -10.4343, -10.4404, -10.4434, -10.3861, -10.4841, -10.4852, -10.4914, -10.5076, -10.5053, -10.5105, -10.5144, -10.5166], \"loglift\": [30.0, 29.0, 28.0, 27.0, 26.0, 25.0, 24.0, 23.0, 22.0, 21.0, 20.0, 19.0, 18.0, 17.0, 16.0, 15.0, 14.0, 13.0, 12.0, 11.0, 10.0, 9.0, 8.0, 7.0, 6.0, 5.0, 4.0, 3.0, 2.0, 1.0, 0.7838, 0.7833, 0.7832, 0.7476, 0.7462, -0.0001, -0.0001, -0.0001, -0.0001, -0.0001, -0.0001, -0.0001, -0.0001, -0.0001, -0.0001, -0.0001, -0.0001, -0.0001, -0.0001, -0.0001, -0.0001, -0.0001, -0.0001, -0.0001, -0.0001, -0.0001, -0.0001, -0.0001, -0.0001, -0.0001, -0.6705, -0.6814, -1.3393, -0.4005, -0.6842, -0.6851, -0.6882, -0.7095, 0.8213, 0.8066, 0.7914, 0.6869, -0.0001, -0.0001, -0.0001, -0.0001, -0.0001, -0.0001, -0.0001, -0.0001, -0.0001, -0.0001, -0.0001, -0.0001, -0.0001, -0.0001, -0.0001, -0.0001, -0.0001, -0.0001, -0.0001, -0.0001, -0.0001, -0.0001, -0.0001, -0.0001, -0.0001, -0.0001, -0.3585, -0.6905, -0.7189, -0.6832, -0.6875, -0.6935, -0.7748, -0.7795, -0.7791, 0.8455, 0.8432, 0.8431, 0.147, 0.0, 0.0, 0.0, 0.0, 0.0, 0.0, 0.0, 0.0, 0.0, 0.0, 0.0, 0.0, 0.0, 0.0, 0.0, 0.0, 0.0, 0.0, 0.0, 0.0, 0.0, 0.0, 0.0, 0.0, 0.0, 0.0, -0.3273, -0.6465, -0.6897, -0.679, -0.7199, -0.7159, -0.7753, -0.7761, -0.7782, 1.1153, 0.0003, 0.0003, 0.0003, 0.0003, 0.0003, 0.0003, 0.0003, 0.0003, 0.0003, 0.0003, 0.0003, 0.0003, 0.0003, 0.0003, 0.0003, 0.0003, 0.0003, 0.0003, 0.0003, 0.0003, 0.0003, 0.0003, 0.0003, 0.0003, 0.0003, 0.0003, 0.0003, 0.0003, 0.0003, -0.6855, -0.6469, -0.6985, -1.3084, -0.6969, -0.6983, -0.6834, -0.7011, -0.7686, -0.7038, -0.7791, -0.7806]}, \"token.table\": {\"Topic\": [], \"Freq\": [], \"Term\": []}, \"R\": 30, \"lambda.step\": 0.01, \"plot.opts\": {\"xlab\": \"PC1\", \"ylab\": \"PC2\"}, \"topic.order\": [1, 3, 2, 4]};\n",
       "\n",
       "function LDAvis_load_lib(url, callback){\n",
       "  var s = document.createElement('script');\n",
       "  s.src = url;\n",
       "  s.async = true;\n",
       "  s.onreadystatechange = s.onload = callback;\n",
       "  s.onerror = function(){console.warn(\"failed to load library \" + url);};\n",
       "  document.getElementsByTagName(\"head\")[0].appendChild(s);\n",
       "}\n",
       "\n",
       "if(typeof(LDAvis) !== \"undefined\"){\n",
       "   // already loaded: just create the visualization\n",
       "   !function(LDAvis){\n",
       "       new LDAvis(\"#\" + \"ldavis_el488531402271064795682226344205\", ldavis_el488531402271064795682226344205_data);\n",
       "   }(LDAvis);\n",
       "}else if(typeof define === \"function\" && define.amd){\n",
       "   // require.js is available: use it to load d3/LDAvis\n",
       "   require.config({paths: {d3: \"https://d3js.org/d3.v5\"}});\n",
       "   require([\"d3\"], function(d3){\n",
       "      window.d3 = d3;\n",
       "      LDAvis_load_lib(\"https://cdn.jsdelivr.net/gh/bmabey/pyLDAvis@3.3.1/pyLDAvis/js/ldavis.v3.0.0.js\", function(){\n",
       "        new LDAvis(\"#\" + \"ldavis_el488531402271064795682226344205\", ldavis_el488531402271064795682226344205_data);\n",
       "      });\n",
       "    });\n",
       "}else{\n",
       "    // require.js not available: dynamically load d3 & LDAvis\n",
       "    LDAvis_load_lib(\"https://d3js.org/d3.v5.js\", function(){\n",
       "         LDAvis_load_lib(\"https://cdn.jsdelivr.net/gh/bmabey/pyLDAvis@3.3.1/pyLDAvis/js/ldavis.v3.0.0.js\", function(){\n",
       "                 new LDAvis(\"#\" + \"ldavis_el488531402271064795682226344205\", ldavis_el488531402271064795682226344205_data);\n",
       "            })\n",
       "         });\n",
       "}\n",
       "</script>"
      ],
      "text/plain": [
       "PreparedData(topic_coordinates=              x    y  topics  cluster       Freq\n",
       "topic                                           \n",
       "0      0.000101 -0.0       1        1  31.240282\n",
       "2     -0.000075 -0.0       2        1  28.527276\n",
       "1     -0.000039  0.0       3        1  27.297879\n",
       "3      0.000012  0.0       4        1  12.934563, topic_info=                Term      Freq     Total Category  logprob  loglift\n",
       "4019            air.  0.000000  0.000000  Default  30.0000  30.0000\n",
       "2339         climate  0.000000  0.000000  Default  29.0000  29.0000\n",
       "5279           sorry  0.000000  0.000000  Default  28.0000  28.0000\n",
       "3398         putting  0.000000  0.000000  Default  27.0000  27.0000\n",
       "1560       limitless  0.000000  0.000000  Default  26.0000  26.0000\n",
       "...              ...       ...       ...      ...      ...      ...\n",
       "5279           sorry  0.000053  0.000826   Topic4 -10.5076  -0.7011\n",
       "8131   conditioning!  0.000053  0.000886   Topic4 -10.5053  -0.7686\n",
       "1560       limitless  0.000053  0.000826   Topic4 -10.5105  -0.7038\n",
       "10672             (1  0.000053  0.000887   Topic4 -10.5144  -0.7791\n",
       "1941           nice,  0.000053  0.000887   Topic4 -10.5166  -0.7806\n",
       "\n",
       "[188 rows x 6 columns], token_table=Empty DataFrame\n",
       "Columns: [Topic, Freq, Term]\n",
       "Index: [], R=30, lambda_step=0.01, plot_opts={'xlab': 'PC1', 'ylab': 'PC2'}, topic_order=[1, 3, 2, 4])"
      ]
     },
     "execution_count": 40,
     "metadata": {},
     "output_type": "execute_result"
    }
   ],
   "source": [
    "import pyLDAvis.gensim_models\n",
    "pyLDAvis.enable_notebook()\n",
    "vis = pyLDAvis.gensim_models.prepare(model, corpus, dictionary=model.id2word)\n",
    "vis"
   ]
  },
  {
   "cell_type": "code",
   "execution_count": null,
   "id": "ad2813e6",
   "metadata": {},
   "outputs": [],
   "source": []
  },
  {
   "cell_type": "code",
   "execution_count": null,
   "id": "982750aa",
   "metadata": {},
   "outputs": [],
   "source": []
  },
  {
   "cell_type": "code",
   "execution_count": null,
   "id": "f0e814b5",
   "metadata": {},
   "outputs": [],
   "source": []
  },
  {
   "cell_type": "code",
   "execution_count": null,
   "id": "66d8dc54",
   "metadata": {},
   "outputs": [],
   "source": []
  },
  {
   "cell_type": "code",
   "execution_count": null,
   "id": "51bfef1b",
   "metadata": {},
   "outputs": [],
   "source": []
  },
  {
   "cell_type": "code",
   "execution_count": null,
   "id": "81c5fca3",
   "metadata": {},
   "outputs": [],
   "source": []
  },
  {
   "cell_type": "code",
   "execution_count": null,
   "id": "c79d1ff1",
   "metadata": {},
   "outputs": [],
   "source": []
  }
 ],
 "metadata": {
  "kernelspec": {
   "display_name": "Python 3 (ipykernel)",
   "language": "python",
   "name": "python3"
  },
  "language_info": {
   "codemirror_mode": {
    "name": "ipython",
    "version": 3
   },
   "file_extension": ".py",
   "mimetype": "text/x-python",
   "name": "python",
   "nbconvert_exporter": "python",
   "pygments_lexer": "ipython3",
   "version": "3.8.2"
  }
 },
 "nbformat": 4,
 "nbformat_minor": 5
}
